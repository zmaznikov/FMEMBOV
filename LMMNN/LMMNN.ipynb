{
 "cells": [
  {
   "cell_type": "code",
   "execution_count": 1,
   "metadata": {},
   "outputs": [],
   "source": [
    "import os\n",
    "import sys\n",
    "module_path = os.path.abspath(os.path.join('../..'))\n",
    "if module_path not in sys.path:\n",
    "    sys.path.append(module_path)"
   ]
  },
  {
   "cell_type": "code",
   "execution_count": 2,
   "metadata": {},
   "outputs": [],
   "source": [
    "os.environ['TF_DETERMINISTIC_OPS'] = '1'"
   ]
  },
  {
   "cell_type": "code",
   "execution_count": 3,
   "metadata": {},
   "outputs": [],
   "source": [
    "import time\n",
    "import gc\n",
    "import random\n",
    "import numpy as np\n",
    "import pandas as pd\n",
    "import matplotlib.pyplot as plt\n",
    "\n",
    "from sklearn.model_selection import KFold\n",
    "from sklearn.preprocessing import StandardScaler\n",
    "\n",
    "from lmmnn.nn import reg_nn_ohe_or_ignore, reg_nn_embed, reg_nn_lmm\n",
    "from lmmnn.simulation import Count\n",
    "\n",
    "import tensorflow.keras.backend as K"
   ]
  },
  {
   "cell_type": "code",
   "execution_count": 37,
   "metadata": {},
   "outputs": [],
   "source": [
    "file_path = 'nonlin-3_levels_s12345'"
   ]
  },
  {
   "cell_type": "code",
   "execution_count": 38,
   "metadata": {},
   "outputs": [
    {
     "name": "stdout",
     "output_type": "stream",
     "text": [
      "(2000, 10)\n"
     ]
    },
    {
     "data": {
      "text/html": [
       "<div>\n",
       "<style scoped>\n",
       "    .dataframe tbody tr th:only-of-type {\n",
       "        vertical-align: middle;\n",
       "    }\n",
       "\n",
       "    .dataframe tbody tr th {\n",
       "        vertical-align: top;\n",
       "    }\n",
       "\n",
       "    .dataframe thead th {\n",
       "        text-align: right;\n",
       "    }\n",
       "</style>\n",
       "<table border=\"1\" class=\"dataframe\">\n",
       "  <thead>\n",
       "    <tr style=\"text-align: right;\">\n",
       "      <th></th>\n",
       "      <th>Feature_1</th>\n",
       "      <th>Feature_2</th>\n",
       "      <th>Feature_3</th>\n",
       "      <th>Feature_4</th>\n",
       "      <th>Feature_5</th>\n",
       "      <th>Time</th>\n",
       "      <th>Group</th>\n",
       "      <th>Group_2</th>\n",
       "      <th>True_p</th>\n",
       "      <th>Response</th>\n",
       "    </tr>\n",
       "  </thead>\n",
       "  <tbody>\n",
       "    <tr>\n",
       "      <th>0</th>\n",
       "      <td>0.859232</td>\n",
       "      <td>0.284951</td>\n",
       "      <td>0.636700</td>\n",
       "      <td>-0.232303</td>\n",
       "      <td>0.890744</td>\n",
       "      <td>1</td>\n",
       "      <td>1</td>\n",
       "      <td>2</td>\n",
       "      <td>0.989245</td>\n",
       "      <td>1</td>\n",
       "    </tr>\n",
       "    <tr>\n",
       "      <th>1</th>\n",
       "      <td>-0.367249</td>\n",
       "      <td>0.434907</td>\n",
       "      <td>0.000446</td>\n",
       "      <td>-0.369008</td>\n",
       "      <td>0.066464</td>\n",
       "      <td>2</td>\n",
       "      <td>1</td>\n",
       "      <td>2</td>\n",
       "      <td>0.984000</td>\n",
       "      <td>1</td>\n",
       "    </tr>\n",
       "    <tr>\n",
       "      <th>2</th>\n",
       "      <td>-0.632162</td>\n",
       "      <td>-0.064802</td>\n",
       "      <td>0.620379</td>\n",
       "      <td>0.136788</td>\n",
       "      <td>-0.495015</td>\n",
       "      <td>3</td>\n",
       "      <td>1</td>\n",
       "      <td>2</td>\n",
       "      <td>0.673735</td>\n",
       "      <td>1</td>\n",
       "    </tr>\n",
       "    <tr>\n",
       "      <th>3</th>\n",
       "      <td>-0.590879</td>\n",
       "      <td>-0.348831</td>\n",
       "      <td>-0.808063</td>\n",
       "      <td>-0.624364</td>\n",
       "      <td>0.441724</td>\n",
       "      <td>4</td>\n",
       "      <td>1</td>\n",
       "      <td>2</td>\n",
       "      <td>0.954860</td>\n",
       "      <td>1</td>\n",
       "    </tr>\n",
       "    <tr>\n",
       "      <th>4</th>\n",
       "      <td>0.135450</td>\n",
       "      <td>-0.120711</td>\n",
       "      <td>-0.562100</td>\n",
       "      <td>-0.748317</td>\n",
       "      <td>-0.265122</td>\n",
       "      <td>5</td>\n",
       "      <td>1</td>\n",
       "      <td>2</td>\n",
       "      <td>0.536130</td>\n",
       "      <td>1</td>\n",
       "    </tr>\n",
       "  </tbody>\n",
       "</table>\n",
       "</div>"
      ],
      "text/plain": [
       "   Feature_1  Feature_2  Feature_3  Feature_4  Feature_5  Time  Group  \\\n",
       "0   0.859232   0.284951   0.636700  -0.232303   0.890744     1      1   \n",
       "1  -0.367249   0.434907   0.000446  -0.369008   0.066464     2      1   \n",
       "2  -0.632162  -0.064802   0.620379   0.136788  -0.495015     3      1   \n",
       "3  -0.590879  -0.348831  -0.808063  -0.624364   0.441724     4      1   \n",
       "4   0.135450  -0.120711  -0.562100  -0.748317  -0.265122     5      1   \n",
       "\n",
       "   Group_2    True_p  Response  \n",
       "0        2  0.989245         1  \n",
       "1        2  0.984000         1  \n",
       "2        2  0.673735         1  \n",
       "3        2  0.954860         1  \n",
       "4        2  0.536130         1  "
      ]
     },
     "execution_count": 38,
     "metadata": {},
     "output_type": "execute_result"
    }
   ],
   "source": [
    "all_data = pd.read_csv('../Data/' + file_path + '.csv')\n",
    "print(all_data.shape)\n",
    "all_data.head()"
   ]
  },
  {
   "cell_type": "code",
   "execution_count": 39,
   "metadata": {},
   "outputs": [
    {
     "name": "stdout",
     "output_type": "stream",
     "text": [
      "100\n"
     ]
    }
   ],
   "source": [
    "print(len(all_data['Group'].unique()))"
   ]
  },
  {
   "cell_type": "code",
   "execution_count": 40,
   "metadata": {},
   "outputs": [
    {
     "name": "stdout",
     "output_type": "stream",
     "text": [
      "no. of groups: 100\n"
     ]
    }
   ],
   "source": [
    "n_cats_group = len(all_data['Group'].unique())\n",
    "print(f'no. of groups: {n_cats_group}')"
   ]
  },
  {
   "cell_type": "code",
   "execution_count": 41,
   "metadata": {},
   "outputs": [],
   "source": [
    "all_data.rename(columns={'Group_2': 'z0'}, inplace=True)"
   ]
  },
  {
   "cell_type": "code",
   "execution_count": 42,
   "metadata": {},
   "outputs": [],
   "source": [
    "batch = 100\n",
    "epochs = 1000\n",
    "patience = 10\n",
    "mode = 'glmm'\n",
    "n_sig2bs = 2\n",
    "est_cors = []\n",
    "n_neurons = [10, 3]\n",
    "activation = 'relu'\n",
    "dropout = []\n",
    "spatial_embedded_neurons = []\n",
    "qs = [n_cats_group]\n",
    "dist_matrix = None\n",
    "q_spatial = None\n",
    "Z_non_linear = False\n",
    "Z_embed_dim_pct = 10\n",
    "n_sig2bs_spatial = 0\n",
    "time2measure_dict = None\n",
    "spatial_embed_neurons = None\n",
    "resultion = None\n",
    "verbose = True\n",
    "log_params = False\n",
    "idx = None"
   ]
  },
  {
   "cell_type": "code",
   "execution_count": 43,
   "metadata": {},
   "outputs": [],
   "source": [
    "def reg_nn(X_train, X_test, y_train, y_test, p_test, reg_type):\n",
    "    start = time.time()\n",
    "    if reg_type == 'lmm':\n",
    "        y_pred, sigmas, _, _, n_epochs = reg_nn_lmm(\n",
    "            X_train, X_test, y_train, y_test, qs, q_spatial, x_cols, batch, epochs, patience,\n",
    "            n_neurons, dropout, activation, mode,\n",
    "            n_sig2bs, n_sig2bs_spatial, est_cors, dist_matrix, spatial_embed_neurons, verbose, Z_non_linear, Z_embed_dim_pct, log_params, idx)\n",
    "    # elif reg_type == 'ignore':\n",
    "    #     y_pred, sigmas, _, _, n_epochs = reg_nn_ohe_or_ignore(\n",
    "    #         X_train, X_test, y_train, y_test, qs, x_cols, batch, epochs, patience,\n",
    "    #         n_neurons, dropout, activation, mode, n_sig2bs, n_sig2bs_spatial, est_cors, verbose, ignore_RE=True)\n",
    "    # elif reg_type == 'embed':\n",
    "    #     y_pred, sigmas, _, _, n_epochs = reg_nn_embed(\n",
    "    #         X_train, X_test, y_train, y_test, qs, q_spatial, x_cols, batch, epochs, patience,\n",
    "    #         n_neurons, dropout, activation, mode, n_sig2bs, n_sig2bs_spatial, est_cors, verbose)\n",
    "    else:\n",
    "        raise ValueError(reg_type + 'is an unknown reg_type')\n",
    "    end = time.time()\n",
    "    K.clear_session()\n",
    "    gc.collect()\n",
    "    # y_pred = np.clip(y_pred, 1, 10)\n",
    "    mse = np.mean((y_pred - y_test)**2)\n",
    "    mcr = [0] * 2000  # Create a list with 2000 elements initialized to 0\n",
    "    for i in range(0,2000):\n",
    "        np.random.seed(i)\n",
    "        mcr[i] = np.mean((np.random.binomial(1, y_pred) - y_test)**2)\n",
    "    # plt.scatter(y_test, y_pred, alpha=0.5)\n",
    "    plt.scatter(p_test, y_pred, alpha=0.5)\n",
    "    plt.show()\n",
    "    # return mse, sigmas, n_epochs, end - start\n",
    "    return mcr, y_pred"
   ]
  },
  {
   "cell_type": "code",
   "execution_count": 44,
   "metadata": {},
   "outputs": [],
   "source": [
    "# kf = KFold(n_splits=3, shuffle=True, random_state=420)\n",
    "X, y = all_data.drop(['True_p','Response', \"Group\"], axis=1), all_data['Response']\n",
    "x_cols = [col for col in X.columns if col not in ['z0', 'z1', 'z2', 'Time']]"
   ]
  },
  {
   "cell_type": "code",
   "execution_count": 45,
   "metadata": {},
   "outputs": [],
   "source": [
    "train_index = 17\n",
    "X['z0'] = X['z0'] - 1\n",
    "\n",
    "# Split X and y into train and test sets based on the 'Time' column\n",
    "X_train = X[X['Time'] <= train_index]\n",
    "X_test = X[X['Time'] > train_index]\n",
    "y_train = y[X['Time'] <= train_index]\n",
    "y_test = y[X['Time'] > train_index]\n",
    "\n",
    "X_train = X_train.drop(['Time'], axis=1)\n",
    "X_test = X_test.drop(['Time'], axis=1)\n",
    "\n",
    "test = all_data[X['Time'] > train_index]\n",
    "p_test = test['True_p']"
   ]
  },
  {
   "cell_type": "code",
   "execution_count": 46,
   "metadata": {},
   "outputs": [
    {
     "data": {
      "text/html": [
       "<div>\n",
       "<style scoped>\n",
       "    .dataframe tbody tr th:only-of-type {\n",
       "        vertical-align: middle;\n",
       "    }\n",
       "\n",
       "    .dataframe tbody tr th {\n",
       "        vertical-align: top;\n",
       "    }\n",
       "\n",
       "    .dataframe thead th {\n",
       "        text-align: right;\n",
       "    }\n",
       "</style>\n",
       "<table border=\"1\" class=\"dataframe\">\n",
       "  <thead>\n",
       "    <tr style=\"text-align: right;\">\n",
       "      <th></th>\n",
       "      <th>Feature_1</th>\n",
       "      <th>Feature_2</th>\n",
       "      <th>Feature_3</th>\n",
       "      <th>Feature_4</th>\n",
       "      <th>Feature_5</th>\n",
       "      <th>z0</th>\n",
       "    </tr>\n",
       "  </thead>\n",
       "  <tbody>\n",
       "    <tr>\n",
       "      <th>17</th>\n",
       "      <td>0.744352</td>\n",
       "      <td>-0.896085</td>\n",
       "      <td>-0.245310</td>\n",
       "      <td>0.585601</td>\n",
       "      <td>0.652761</td>\n",
       "      <td>1</td>\n",
       "    </tr>\n",
       "    <tr>\n",
       "      <th>18</th>\n",
       "      <td>0.929295</td>\n",
       "      <td>0.790179</td>\n",
       "      <td>0.697203</td>\n",
       "      <td>-0.009655</td>\n",
       "      <td>0.796201</td>\n",
       "      <td>1</td>\n",
       "    </tr>\n",
       "    <tr>\n",
       "      <th>19</th>\n",
       "      <td>0.447371</td>\n",
       "      <td>0.456532</td>\n",
       "      <td>0.822194</td>\n",
       "      <td>0.830187</td>\n",
       "      <td>-0.914569</td>\n",
       "      <td>1</td>\n",
       "    </tr>\n",
       "    <tr>\n",
       "      <th>37</th>\n",
       "      <td>0.026413</td>\n",
       "      <td>0.817950</td>\n",
       "      <td>0.909469</td>\n",
       "      <td>0.735918</td>\n",
       "      <td>-0.086261</td>\n",
       "      <td>2</td>\n",
       "    </tr>\n",
       "    <tr>\n",
       "      <th>38</th>\n",
       "      <td>0.364713</td>\n",
       "      <td>0.578757</td>\n",
       "      <td>-0.895493</td>\n",
       "      <td>0.911533</td>\n",
       "      <td>-0.500146</td>\n",
       "      <td>2</td>\n",
       "    </tr>\n",
       "    <tr>\n",
       "      <th>...</th>\n",
       "      <td>...</td>\n",
       "      <td>...</td>\n",
       "      <td>...</td>\n",
       "      <td>...</td>\n",
       "      <td>...</td>\n",
       "      <td>...</td>\n",
       "    </tr>\n",
       "    <tr>\n",
       "      <th>1978</th>\n",
       "      <td>0.991575</td>\n",
       "      <td>0.386547</td>\n",
       "      <td>-0.146472</td>\n",
       "      <td>0.758700</td>\n",
       "      <td>-0.746250</td>\n",
       "      <td>4</td>\n",
       "    </tr>\n",
       "    <tr>\n",
       "      <th>1979</th>\n",
       "      <td>-0.701523</td>\n",
       "      <td>-0.347573</td>\n",
       "      <td>0.792191</td>\n",
       "      <td>0.546423</td>\n",
       "      <td>-0.776418</td>\n",
       "      <td>4</td>\n",
       "    </tr>\n",
       "    <tr>\n",
       "      <th>1997</th>\n",
       "      <td>-0.923759</td>\n",
       "      <td>0.704097</td>\n",
       "      <td>0.672245</td>\n",
       "      <td>-0.632841</td>\n",
       "      <td>-0.961869</td>\n",
       "      <td>0</td>\n",
       "    </tr>\n",
       "    <tr>\n",
       "      <th>1998</th>\n",
       "      <td>-0.198908</td>\n",
       "      <td>-0.786962</td>\n",
       "      <td>0.980014</td>\n",
       "      <td>-0.900834</td>\n",
       "      <td>-0.481076</td>\n",
       "      <td>0</td>\n",
       "    </tr>\n",
       "    <tr>\n",
       "      <th>1999</th>\n",
       "      <td>-0.463687</td>\n",
       "      <td>0.400728</td>\n",
       "      <td>-0.434211</td>\n",
       "      <td>-0.878589</td>\n",
       "      <td>0.520756</td>\n",
       "      <td>0</td>\n",
       "    </tr>\n",
       "  </tbody>\n",
       "</table>\n",
       "<p>300 rows × 6 columns</p>\n",
       "</div>"
      ],
      "text/plain": [
       "      Feature_1  Feature_2  Feature_3  Feature_4  Feature_5  z0\n",
       "17     0.744352  -0.896085  -0.245310   0.585601   0.652761   1\n",
       "18     0.929295   0.790179   0.697203  -0.009655   0.796201   1\n",
       "19     0.447371   0.456532   0.822194   0.830187  -0.914569   1\n",
       "37     0.026413   0.817950   0.909469   0.735918  -0.086261   2\n",
       "38     0.364713   0.578757  -0.895493   0.911533  -0.500146   2\n",
       "...         ...        ...        ...        ...        ...  ..\n",
       "1978   0.991575   0.386547  -0.146472   0.758700  -0.746250   4\n",
       "1979  -0.701523  -0.347573   0.792191   0.546423  -0.776418   4\n",
       "1997  -0.923759   0.704097   0.672245  -0.632841  -0.961869   0\n",
       "1998  -0.198908  -0.786962   0.980014  -0.900834  -0.481076   0\n",
       "1999  -0.463687   0.400728  -0.434211  -0.878589   0.520756   0\n",
       "\n",
       "[300 rows x 6 columns]"
      ]
     },
     "execution_count": 46,
     "metadata": {},
     "output_type": "execute_result"
    }
   ],
   "source": [
    "X_test"
   ]
  },
  {
   "cell_type": "code",
   "execution_count": 47,
   "metadata": {},
   "outputs": [
    {
     "data": {
      "text/plain": [
       "17      1\n",
       "18      1\n",
       "19      1\n",
       "37      1\n",
       "38      1\n",
       "       ..\n",
       "1978    1\n",
       "1979    1\n",
       "1997    0\n",
       "1998    0\n",
       "1999    1\n",
       "Name: Response, Length: 300, dtype: int64"
      ]
     },
     "execution_count": 47,
     "metadata": {},
     "output_type": "execute_result"
    }
   ],
   "source": [
    "y_test"
   ]
  },
  {
   "cell_type": "code",
   "execution_count": 48,
   "metadata": {
    "tags": []
   },
   "outputs": [
    {
     "name": "stdout",
     "output_type": "stream",
     "text": [
      "Epoch 1/1000\n",
      "16/16 [==============================] - 0s 21ms/step - loss: 66.5822 - val_loss: 61.6016\n",
      "Epoch 2/1000\n",
      "16/16 [==============================] - 0s 3ms/step - loss: 65.3699 - val_loss: 60.7213\n",
      "Epoch 3/1000\n",
      "16/16 [==============================] - 0s 3ms/step - loss: 64.3380 - val_loss: 60.0177\n",
      "Epoch 4/1000\n",
      "16/16 [==============================] - 0s 3ms/step - loss: 63.4317 - val_loss: 59.4216\n",
      "Epoch 5/1000\n",
      "16/16 [==============================] - 0s 3ms/step - loss: 62.6216 - val_loss: 58.9283\n",
      "Epoch 6/1000\n",
      "16/16 [==============================] - 0s 3ms/step - loss: 61.8827 - val_loss: 58.5034\n",
      "Epoch 7/1000\n",
      "16/16 [==============================] - 0s 3ms/step - loss: 61.2000 - val_loss: 58.1155\n",
      "Epoch 8/1000\n",
      "16/16 [==============================] - 0s 3ms/step - loss: 60.5617 - val_loss: 57.7818\n",
      "Epoch 9/1000\n",
      "16/16 [==============================] - 0s 3ms/step - loss: 59.9548 - val_loss: 57.5122\n",
      "Epoch 10/1000\n",
      "16/16 [==============================] - 0s 3ms/step - loss: 59.3905 - val_loss: 57.3206\n",
      "Epoch 11/1000\n",
      "16/16 [==============================] - 0s 3ms/step - loss: 58.8777 - val_loss: 57.2109\n",
      "Epoch 12/1000\n",
      "16/16 [==============================] - ETA: 0s - loss: 61.08 - 0s 3ms/step - loss: 58.4237 - val_loss: 57.1428\n",
      "Epoch 13/1000\n",
      "16/16 [==============================] - 0s 3ms/step - loss: 58.0269 - val_loss: 57.1066\n",
      "Epoch 14/1000\n",
      "16/16 [==============================] - 0s 3ms/step - loss: 57.6788 - val_loss: 57.0789\n",
      "Epoch 15/1000\n",
      "16/16 [==============================] - 0s 4ms/step - loss: 57.3767 - val_loss: 57.0613\n",
      "Epoch 16/1000\n",
      "16/16 [==============================] - 0s 3ms/step - loss: 57.1146 - val_loss: 57.0515\n",
      "Epoch 17/1000\n",
      "16/16 [==============================] - 0s 3ms/step - loss: 56.8826 - val_loss: 57.0306\n",
      "Epoch 18/1000\n",
      "16/16 [==============================] - 0s 5ms/step - loss: 56.6782 - val_loss: 57.0182\n",
      "Epoch 19/1000\n",
      "16/16 [==============================] - 0s 4ms/step - loss: 56.5003 - val_loss: 57.0274\n",
      "Epoch 20/1000\n",
      "16/16 [==============================] - 0s 4ms/step - loss: 56.3416 - val_loss: 57.0392\n",
      "Epoch 21/1000\n",
      "16/16 [==============================] - 0s 3ms/step - loss: 56.1968 - val_loss: 57.0356\n",
      "Epoch 22/1000\n",
      "16/16 [==============================] - 0s 4ms/step - loss: 56.0640 - val_loss: 57.0257\n",
      "Epoch 23/1000\n",
      "16/16 [==============================] - 0s 3ms/step - loss: 55.9432 - val_loss: 57.0198\n",
      "Epoch 24/1000\n",
      "16/16 [==============================] - 0s 3ms/step - loss: 55.8336 - val_loss: 57.0255\n",
      "Epoch 25/1000\n",
      "16/16 [==============================] - 0s 4ms/step - loss: 55.7324 - val_loss: 57.0167\n",
      "Epoch 26/1000\n",
      "16/16 [==============================] - 0s 3ms/step - loss: 55.6345 - val_loss: 56.9936\n",
      "Epoch 27/1000\n",
      "16/16 [==============================] - 0s 2ms/step - loss: 55.5391 - val_loss: 56.9775\n",
      "Epoch 28/1000\n",
      "16/16 [==============================] - 0s 4ms/step - loss: 55.4497 - val_loss: 56.9651\n",
      "Epoch 29/1000\n",
      "16/16 [==============================] - 0s 3ms/step - loss: 55.3639 - val_loss: 56.9537\n",
      "Epoch 30/1000\n",
      "16/16 [==============================] - 0s 3ms/step - loss: 55.2841 - val_loss: 56.9426\n",
      "Epoch 31/1000\n",
      "16/16 [==============================] - 0s 4ms/step - loss: 55.2083 - val_loss: 56.9285\n",
      "Epoch 32/1000\n",
      "16/16 [==============================] - 0s 3ms/step - loss: 55.1325 - val_loss: 56.9026\n",
      "Epoch 33/1000\n",
      "16/16 [==============================] - 0s 3ms/step - loss: 55.0569 - val_loss: 56.8763\n",
      "Epoch 34/1000\n",
      "16/16 [==============================] - 0s 3ms/step - loss: 54.9803 - val_loss: 56.8447\n",
      "Epoch 35/1000\n",
      "16/16 [==============================] - 0s 4ms/step - loss: 54.9008 - val_loss: 56.8091\n",
      "Epoch 36/1000\n",
      "16/16 [==============================] - 0s 3ms/step - loss: 54.8209 - val_loss: 56.7740\n",
      "Epoch 37/1000\n",
      "16/16 [==============================] - 0s 3ms/step - loss: 54.7414 - val_loss: 56.7343\n",
      "Epoch 38/1000\n",
      "16/16 [==============================] - 0s 3ms/step - loss: 54.6641 - val_loss: 56.7038\n",
      "Epoch 39/1000\n",
      "16/16 [==============================] - 0s 3ms/step - loss: 54.5861 - val_loss: 56.6766\n",
      "Epoch 40/1000\n",
      "16/16 [==============================] - 0s 4ms/step - loss: 54.5127 - val_loss: 56.6558\n",
      "Epoch 41/1000\n",
      "16/16 [==============================] - 0s 3ms/step - loss: 54.4413 - val_loss: 56.6522\n",
      "Epoch 42/1000\n",
      "16/16 [==============================] - 0s 3ms/step - loss: 54.3697 - val_loss: 56.6386\n",
      "Epoch 43/1000\n",
      "16/16 [==============================] - 0s 3ms/step - loss: 54.2984 - val_loss: 56.6239\n",
      "Epoch 44/1000\n",
      "16/16 [==============================] - 0s 3ms/step - loss: 54.2270 - val_loss: 56.6162\n",
      "Epoch 45/1000\n",
      "16/16 [==============================] - 0s 4ms/step - loss: 54.1569 - val_loss: 56.6155\n",
      "Epoch 46/1000\n",
      "16/16 [==============================] - 0s 4ms/step - loss: 54.0895 - val_loss: 56.6162\n",
      "Epoch 47/1000\n",
      "16/16 [==============================] - 0s 5ms/step - loss: 54.0222 - val_loss: 56.6088\n",
      "Epoch 48/1000\n",
      "16/16 [==============================] - 0s 4ms/step - loss: 53.9562 - val_loss: 56.5979\n",
      "Epoch 49/1000\n",
      "16/16 [==============================] - 0s 5ms/step - loss: 53.8909 - val_loss: 56.5928\n",
      "Epoch 50/1000\n",
      "16/16 [==============================] - 0s 2ms/step - loss: 53.8232 - val_loss: 56.5852\n",
      "Epoch 51/1000\n",
      "16/16 [==============================] - 0s 3ms/step - loss: 53.7575 - val_loss: 56.5770\n",
      "Epoch 52/1000\n",
      "16/16 [==============================] - 0s 3ms/step - loss: 53.6919 - val_loss: 56.5757\n",
      "Epoch 53/1000\n",
      "16/16 [==============================] - 0s 3ms/step - loss: 53.6261 - val_loss: 56.5717\n",
      "Epoch 54/1000\n",
      "16/16 [==============================] - 0s 3ms/step - loss: 53.5623 - val_loss: 56.5530\n",
      "Epoch 55/1000\n",
      "16/16 [==============================] - 0s 4ms/step - loss: 53.4933 - val_loss: 56.5164\n",
      "Epoch 56/1000\n",
      "16/16 [==============================] - 0s 4ms/step - loss: 53.4239 - val_loss: 56.4872\n",
      "Epoch 57/1000\n",
      "16/16 [==============================] - 0s 2ms/step - loss: 53.3541 - val_loss: 56.4499\n",
      "Epoch 58/1000\n",
      "16/16 [==============================] - 0s 4ms/step - loss: 53.2869 - val_loss: 56.4205\n",
      "Epoch 59/1000\n",
      "16/16 [==============================] - 0s 3ms/step - loss: 53.2222 - val_loss: 56.4067\n",
      "Epoch 60/1000\n",
      "16/16 [==============================] - 0s 3ms/step - loss: 53.1599 - val_loss: 56.4046\n",
      "Epoch 61/1000\n",
      "16/16 [==============================] - 0s 3ms/step - loss: 53.0990 - val_loss: 56.4099\n",
      "Epoch 62/1000\n",
      "16/16 [==============================] - 0s 6ms/step - loss: 53.0394 - val_loss: 56.4190\n",
      "Epoch 63/1000\n",
      "16/16 [==============================] - 0s 3ms/step - loss: 52.9809 - val_loss: 56.4296\n",
      "Epoch 64/1000\n",
      "16/16 [==============================] - 0s 3ms/step - loss: 52.9226 - val_loss: 56.4454\n",
      "Epoch 65/1000\n",
      "16/16 [==============================] - 0s 3ms/step - loss: 52.8626 - val_loss: 56.4525\n",
      "Epoch 66/1000\n",
      "16/16 [==============================] - 0s 3ms/step - loss: 52.7979 - val_loss: 56.4530\n",
      "Epoch 67/1000\n",
      "16/16 [==============================] - 0s 3ms/step - loss: 52.7325 - val_loss: 56.4518\n",
      "Epoch 68/1000\n",
      "16/16 [==============================] - 0s 3ms/step - loss: 52.6723 - val_loss: 56.4533\n",
      "Epoch 69/1000\n",
      "16/16 [==============================] - 0s 3ms/step - loss: 52.6111 - val_loss: 56.4593\n",
      "Epoch 70/1000\n",
      "16/16 [==============================] - 0s 3ms/step - loss: 52.5507 - val_loss: 56.4586\n",
      "54/54 [==============================] - 0s 974us/step\n",
      "10/10 [==============================] - 0s 1ms/step\n"
     ]
    },
    {
     "data": {
      "image/png": "[encoded data removed]",
      "text/plain": [
       "<Figure size 432x288 with 1 Axes>"
      ]
     },
     "metadata": {
      "needs_background": "light"
     },
     "output_type": "display_data"
    }
   ],
   "source": [
    "random.seed(42)\n",
    "mcr, y_pred = reg_nn(X_train, X_test, y_train, y_test, p_test, reg_type='lmm')"
   ]
  },
  {
   "cell_type": "code",
   "execution_count": 49,
   "metadata": {},
   "outputs": [
    {
     "data": {
      "text/plain": [
       "0.3808"
      ]
     },
     "execution_count": 49,
     "metadata": {},
     "output_type": "execute_result"
    }
   ],
   "source": [
    "np.mean(mcr)"
   ]
  },
  {
   "cell_type": "code",
   "execution_count": 50,
   "metadata": {},
   "outputs": [
    {
     "data": {
      "text/plain": [
       "6.522155555555557"
      ]
     },
     "execution_count": 50,
     "metadata": {},
     "output_type": "execute_result"
    }
   ],
   "source": [
    "np.var(mcr)*10000"
   ]
  },
  {
   "cell_type": "code",
   "execution_count": 51,
   "metadata": {},
   "outputs": [],
   "source": [
    "p_data_df = pd.DataFrame({'True_p': p_test.values, 'Predicted_p': y_pred})\n",
    "p_data_df.to_csv('../Data/TrueAndPredictedTest/LMMNN' + file_path + '_group.csv')"
   ]
  }
 ],
 "metadata": {
  "kernelspec": {
   "display_name": "Python 3 (ipykernel)",
   "language": "python",
   "name": "python3"
  },
  "language_info": {
   "codemirror_mode": {
    "name": "ipython",
    "version": 3
   },
   "file_extension": ".py",
   "mimetype": "text/x-python",
   "name": "python",
   "nbconvert_exporter": "python",
   "pygments_lexer": "ipython3",
   "version": "3.7.11"
  }
 },
 "nbformat": 4,
 "nbformat_minor": 4
}
